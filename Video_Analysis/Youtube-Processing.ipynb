{
 "cells": [
  {
   "cell_type": "markdown",
   "metadata": {},
   "source": [
    "# Package downloads and Imports"
   ]
  },
  {
   "cell_type": "code",
   "execution_count": 2,
   "metadata": {},
   "outputs": [
    {
     "name": "stdout",
     "output_type": "stream",
     "text": [
      "Reading package lists... Done\n",
      "Building dependency tree       \n",
      "Reading state information... Done\n",
      "python3-opencv is already the newest version (3.2.0+dfsg-4ubuntu0.1).\n",
      "0 upgraded, 0 newly installed, 0 to remove and 26 not upgraded.\n"
     ]
    }
   ],
   "source": [
    "!pip install -q youtube-dl katna opencv-python\n",
    "!apt install python3-opencv -y"
   ]
  },
  {
   "cell_type": "code",
   "execution_count": 1,
   "metadata": {},
   "outputs": [],
   "source": [
    "import cv2\n",
    "import numpy as np\n",
    "import os\n",
    "import shutil"
   ]
  },
  {
   "cell_type": "code",
   "execution_count": 2,
   "metadata": {},
   "outputs": [],
   "source": [
    "from torchvision import transforms # To perform all the transforms on our data\n",
    "from torchvision import datasets #Used to load the data from the folders\n",
    "from torch.utils.data import DataLoader\n",
    "from torchvision import models\n",
    "import torch\n",
    "import torch.nn as nn\n",
    "import torch.optim as optim\n",
    "import time\n",
    "from PIL import Image\n",
    "import matplotlib.pyplot as plt"
   ]
  },
  {
   "cell_type": "markdown",
   "metadata": {},
   "source": [
    "# Video Download and Keyframe Extraction"
   ]
  },
  {
   "cell_type": "code",
   "execution_count": 3,
   "metadata": {},
   "outputs": [
    {
     "name": "stdout",
     "output_type": "stream",
     "text": [
      "[youtube] 2ievbVhn-YU: Downloading webpage\n",
      "[download] Dirt Shark - 2015 Monster Girl Bikini BTS Shoot-2ievbVhn-YU.mp4 has already been downloaded\n",
      "\u001b[K[download] 100% of 7.09MiB\n",
      "[ffmpeg] Not converting video file Dirt Shark - 2015 Monster Girl Bikini BTS Shoot-2ievbVhn-YU.mp4 - already is in target format mp4\n"
     ]
    }
   ],
   "source": [
    "!youtube-dl -f 134 --recode-video mp4 https://www.youtube.com/watch?v=2ievbVhn-YU"
   ]
  },
  {
   "cell_type": "code",
   "execution_count": 4,
   "metadata": {},
   "outputs": [
    {
     "name": "stdout",
     "output_type": "stream",
     "text": [
      "Big Buck Bunny-YE7VzlLtp-4.mp4\r\n",
      "Dirt Shark - 2015 Monster Girl Bikini BTS Shoot-2ievbVhn-YU.mp4\r\n"
     ]
    }
   ],
   "source": [
    "!ls | grep .mp4"
   ]
  },
  {
   "cell_type": "code",
   "execution_count": 34,
   "metadata": {},
   "outputs": [],
   "source": [
    "def videotoimages(imgname):\n",
    "    prev_frame = None\n",
    "    k = 0\n",
    "    file_path = os.getcwd()\n",
    "    try:\n",
    "        print(\"Folder Created\")\n",
    "        os.mkdir(\"data/\"+imgname)\n",
    "    except FileExistsError:\n",
    "        print(\"Deleting contents as Folder Already Exist\")\n",
    "        shutil.rmtree(\"data/\"+imgname)\n",
    "        os.mkdir(\"data/\"+imgname)\n",
    "    video = cv2.VideoCapture(imgname)\n",
    "    length = int(video.get(cv2.CAP_PROP_FRAME_COUNT))\n",
    "    print(\"Length of the Video:\",length)\n",
    "\n",
    "    def mse(imageA, imageB):\n",
    "        err = np.sum((imageA.astype(\"float\") - imageB.astype(\"float\")) ** 2)\n",
    "        err /= float(imageA.shape[0] * imageA.shape[1])\n",
    "        return err\n",
    "    \n",
    "    while True:\n",
    "        check,current_frame = video.read()\n",
    "        if check== False:\n",
    "            break\n",
    "        if prev_frame is None:\n",
    "            prev_frame = current_frame\n",
    "            continue\n",
    "        prev_frame = cv2.dilate(prev_frame,None,iterations =0)\n",
    "        current_frame = cv2.dilate(current_frame,None,iterations =0)\n",
    "        error = mse(current_frame,prev_frame)\n",
    "        if(error > 2500 ): # and similarity\n",
    "            k = k+1\n",
    "            file_name = file_path +'/data/'+ str(imgname)+\"/\"+ str(k) +'.jpg'\n",
    "            resized = cv2.resize(prev_frame, (224,224), interpolation = cv2.INTER_AREA)\n",
    "            cv2.imwrite(file_name,resized) # Assuming the current frame will be checked with something else\n",
    "        prev_frame = current_frame\n",
    "    video.release()\n",
    "    cv2.destroyAllWindows()\n",
    "    print(\"Total Key Frames Extracted:\",k)\n",
    "    return k"
   ]
  },
  {
   "cell_type": "code",
   "execution_count": 35,
   "metadata": {},
   "outputs": [
    {
     "name": "stdout",
     "output_type": "stream",
     "text": [
      "Folder Created\n",
      "Deleting contents as Folder Already Exist\n",
      "Length of the Video: 4495\n",
      "Total Key Frames Extracted: 46\n"
     ]
    }
   ],
   "source": [
    "k = videotoimages(\"Dirt Shark - 2015 Monster Girl Bikini BTS Shoot-2ievbVhn-YU.mp4\")"
   ]
  },
  {
   "cell_type": "markdown",
   "metadata": {},
   "source": [
    "# Image Classification"
   ]
  },
  {
   "cell_type": "code",
   "execution_count": 59,
   "metadata": {},
   "outputs": [],
   "source": [
    "image_classes = ['Drawing','Hentai','Neutral','Pornography','Sexually Provocative']"
   ]
  },
  {
   "cell_type": "code",
   "execution_count": 14,
   "metadata": {},
   "outputs": [],
   "source": [
    "image_transforms = {\n",
    "    'train':transforms.Compose([\n",
    "        transforms.RandomRotation(degrees=15),\n",
    "        transforms.RandomHorizontalFlip(),\n",
    "        transforms.ToTensor(),\n",
    "        transforms.Normalize([0.485, 0.456, 0.406],\n",
    "                             [0.229, 0.224, 0.225])\n",
    "    ]),\n",
    "    'test':transforms.Compose([\n",
    "        transforms.ToTensor(),\n",
    "        transforms.Normalize([0.485, 0.456, 0.406],\n",
    "                             [0.229, 0.224, 0.225])\n",
    "    ]),\n",
    "    'valid':transforms.Compose([\n",
    "        transforms.ToTensor(),\n",
    "        transforms.Normalize([0.485, 0.456, 0.406],\n",
    "                             [0.229, 0.224, 0.225])\n",
    "    ])\n",
    "}"
   ]
  },
  {
   "cell_type": "code",
   "execution_count": 85,
   "metadata": {},
   "outputs": [],
   "source": [
    "# Predict fucnction that returns the appopirate class index\n",
    "def predict(model, test_image_name):\n",
    "    transform = image_transforms['test']\n",
    "    test_image = Image.open(test_image_name)\n",
    "    # plt.imshow(test_image)\n",
    "    test_image_tensor = transform(test_image)\n",
    "    if torch.cuda.is_available():\n",
    "        test_image_tensor = test_image_tensor.view(1, 3, 224, 224).cuda()\n",
    "    else:\n",
    "        test_image_tensor = test_image_tensor.view(1, 3, 224, 224)\n",
    "    with torch.no_grad():\n",
    "        model.eval()\n",
    "        # Model outputs log probabilities\n",
    "        out = model(test_image_tensor)\n",
    "        ps = torch.exp(out)\n",
    "        topk, topclass = ps.topk(1, dim=1)\n",
    "        index=topclass.cpu().numpy()[0][0]\n",
    "        # print(\"Output class :  \", classes[index])\n",
    "        return index"
   ]
  },
  {
   "cell_type": "code",
   "execution_count": 103,
   "metadata": {},
   "outputs": [
    {
     "name": "stderr",
     "output_type": "stream",
     "text": [
      "/usr/local/lib/python3.6/dist-packages/torch/serialization.py:657: SourceChangeWarning: source code of class 'torch.nn.modules.conv.Conv2d' has changed. you can retrieve the original source code by accessing the object's source attribute or set `torch.nn.Module.dump_patches = True` and use the patch tool to revert the changes.\n",
      "  warnings.warn(msg, SourceChangeWarning)\n"
     ]
    }
   ],
   "source": [
    "model = torch.load(\"data/model_batch-8.pt\") # Load Model"
   ]
  },
  {
   "cell_type": "code",
   "execution_count": 50,
   "metadata": {},
   "outputs": [],
   "source": [
    "# Predict every keyframe extracted\n",
    "temp=[]\n",
    "for i in range(1,k):\n",
    "    temp.append(predict(model,\"data/Dirt Shark - 2015 Monster Girl Bikini BTS Shoot-2ievbVhn-YU.mp4/\"+str(i)+\".jpg\"))"
   ]
  },
  {
   "cell_type": "code",
   "execution_count": 102,
   "metadata": {},
   "outputs": [
    {
     "name": "stdout",
     "output_type": "stream",
     "text": [
      "\n",
      "Class Name            | Occurance       | Percentage     \n",
      "---------------------------------------------------------\n",
      "Sexually Provocative  | 17              | 36.96 %        \n",
      "Neutral               | 26              | 56.52 %        \n",
      "Drawing               | 2               | 4.35 %         \n"
     ]
    }
   ],
   "source": [
    "from collections import Counter\n",
    "import math \n",
    "total_occurance = Counter(temp).items()\n",
    "print (\"\\n{:<21} {:<1} {:<15} {:<1} {:<15}\".format(\"Class Name\",\"|\", \"Occurance\",\"|\", \"Percentage\"))\n",
    "print(\"---------------------------------------------------------\")\n",
    "for key in total_occurance:\n",
    "    b=(key[1]/k)*100\n",
    "    print (\"{:<21} {:<1} {:<15} {:<1} {:<15}\".format(image_classes[key[0]],\"|\",key[1],\"|\", str(round(b,2))+\" %\"))"
   ]
  },
  {
   "cell_type": "code",
   "execution_count": null,
   "metadata": {},
   "outputs": [],
   "source": []
  }
 ],
 "metadata": {
  "kernelspec": {
   "display_name": "Python 3",
   "language": "python",
   "name": "python3"
  },
  "language_info": {
   "codemirror_mode": {
    "name": "ipython",
    "version": 3
   },
   "file_extension": ".py",
   "mimetype": "text/x-python",
   "name": "python",
   "nbconvert_exporter": "python",
   "pygments_lexer": "ipython3",
   "version": "3.6.9"
  }
 },
 "nbformat": 4,
 "nbformat_minor": 2
}
